{
 "cells": [
  {
   "cell_type": "markdown",
   "id": "1a307db9",
   "metadata": {},
   "source": [
    "# ODS – Etapa 1 (Clasificación de texto)\n",
    "**Objetivo:** clasificar opiniones a ODS 1/3/4 con modelos supervisados.\n",
    "Estructura:\n",
    "1) Entendimiento de los datos\n",
    "2) Preparación (TF-IDF)\n",
    "3) Modelos base \n",
    "4) Ajuste de hiperparámetros (GridSearchCV)\n",
    "5) Interpretación (términos top)\n",
    "6) Exportables (predicciones y modelo)"
   ]
  },
  {
   "cell_type": "markdown",
   "id": "9702764b",
   "metadata": {},
   "source": [
    "## 1. Imports y configuración"
   ]
  },
  {
   "cell_type": "code",
   "execution_count": 1,
   "id": "be4967ab",
   "metadata": {},
   "outputs": [],
   "source": [
    "import pandas as pd\n",
    "import numpy as np\n",
    "import matplotlib.pyplot as plt\n",
    "\n",
    "from sklearn.model_selection import train_test_split, StratifiedKFold, GridSearchCV, cross_val_score\n",
    "from sklearn.feature_extraction.text import TfidfVectorizer\n",
    "from sklearn.pipeline import Pipeline\n",
    "from sklearn.neighbors import KNeighborsClassifier\n",
    "from sklearn.tree import DecisionTreeClassifier\n",
    "from sklearn.naive_bayes import MultinomialNB\n",
    "from sklearn.metrics import classification_report, confusion_matrix, ConfusionMatrixDisplay\n",
    "from sklearn.feature_selection import chi2\n",
    "from joblib import dump\n",
    "\n",
    "plt.rcParams[\"figure.figsize\"] = (6, 4)\n",
    "plt.rcParams[\"axes.grid\"] = True\n",
    "\n",
    "RANDOM_STATE = 42\n",
    "np.random.seed(RANDOM_STATE) # Buena practica para reproducibilidad segun la ia \n"
   ]
  },
  {
   "cell_type": "markdown",
   "id": "7dc5e342",
   "metadata": {},
   "source": [
    "## 2. Carga de datos"
   ]
  },
  {
   "cell_type": "code",
   "execution_count": 2,
   "id": "8859f093",
   "metadata": {},
   "outputs": [
    {
     "name": "stdout",
     "output_type": "stream",
     "text": [
      "Hojas: ['Sheet1']\n"
     ]
    },
    {
     "data": {
      "application/vnd.microsoft.datawrangler.viewer.v0+json": {
       "columns": [
        {
         "name": "index",
         "rawType": "int64",
         "type": "integer"
        },
        {
         "name": "textos",
         "rawType": "object",
         "type": "string"
        },
        {
         "name": "labels",
         "rawType": "int64",
         "type": "integer"
        }
       ],
       "ref": "faa5a8c5-62f6-4255-898d-a5d4057182b5",
       "rows": [
        [
         "0",
         "\"Aprendizaje\" y \"educación\" se consideran sinónimos de escolarización formal. Las organizaciones auxiliares, como las editoriales de educación, las juntas examinadoras y las organizaciones de formación de docentes, se consideran extensiones de los acuerdos establecidos por los gobiernos. Este marco de comprensión se ha vuelto cada vez más inadecuado.",
         "4"
        ],
        [
         "1",
         "Para los niños más pequeños (bebés y niños pequeños), la capacitación especializada y práctica parece estar más fuertemente asociada con la calidad pedagógica y los resultados cognitivos y sociales. Los educadores de la primera infancia se encuentran con entornos sociales cada vez más complejos y se encuentran con una multiplicidad de antecedentes y experiencias familiares. Estos factores crean imperativos para adoptar nuevas pedagogías y prácticas organizacionales para acomodar este pluralismo (Elliott, 2006).",
         "4"
        ],
        [
         "2",
         "Además, la formación de especialistas en medicina general también incluye tareas que requieren un conocimiento más profundo de problemas comunes de salud pública, incluida la salud mental (Cuestionario de salud mental de la OCDE, 2013). Dado que no hay control en la atención primaria para limitar el acceso a los servicios de salud (mental) especializados, muchos pacientes que necesitan tratamiento (para trastornos mentales graves en particular) pueden buscar atención de nivel especializado directamente. Los servicios de especialistas en psiquiatría se brindan principalmente en las salas ambulatorias de psiquiatría ubicadas en los hospitales generales.",
         "3"
        ],
        [
         "3",
         "En los países de la OCDE se tiende a pasar de los cursos obligatorios a los optativos, abiertos a estudiantes de distintas facultades y escuelas. Este planteamiento facilita la formación de equipos de estudiantes con distintas formaciones e intereses. El trabajo en equipos interdisciplinares permite a los individuos concentrarse en lo que mejor saben y les gusta y, al mismo tiempo, familiarizarse con nuevos conocimientos que pueden asociarse a una nueva forma de resolver un problema o crear un nuevo producto o servicio. No está claro hasta qué punto estos cursos utilizan métodos pedagógicos creativos y se adaptan a las necesidades de los estudiantes de grado, postgrado y licenciatura.",
         "4"
        ],
        [
         "4",
         "Este grupo se centró en las personas que padecen trastornos mentales con comorbilidad de abuso de sustancias (mientras que la demencia, la discapacidad intelectual y el abuso de sustancias por sà solos quedaron excluidos del ámbito de análisis). Con 90 millones de euros de financiación, la comisión dispuso de tres años para \"iniciar y apoyar el desarrollo de proyectos a todos los niveles (tratamiento médico, mejora de los servicios, proyectos de vivienda, mejoras legislativas y organizativas) y proponer las medidas necesarias para elevar de forma permanente el nivel de los servicios de salud mental\". ",
         "3"
        ],
        [
         "5",
         "Los datos a nivel del sistema que no se derivan del cuestionario para estudiantes o escuelas de PISA 2015 se extraen de la publicación anual de la OCDE. Panorama de la educación, para aquellos países y economías que participan en esa recopilación periódica de datos. Para otros países y economías, se llevó a cabo una recopilación de datos a nivel de sistema especial en colaboración con los miembros de la Junta de Gobierno de PISA y los directores de proyectos nacionales.",
         "4"
        ],
        [
         "6",
         "La principal ventaja de las evaluaciones externas es su fiabilidad. Garantizan que todos los estudiantes son evaluados en las mismas tareas y que los resultados se miden con los mismos estándares. Además, las evaluaciones externas suelen realizarse bajo supervisión, lo que garantiza que lo que se evalúa es el propio trabajo de los estudiantes.",
         "4"
        ],
        [
         "7",
         "Los pacientes pueden elegir a cualquier médico de cabecera, pero como no hay un sistema de control, también pueden elegir visitar directamente a cualquier especialista médico. Hay pocos contactos ambulatorios por persona (58 en 2015) y una gobernanza de atención primaria débil (por ejemplo, falta de inspección estatal, políticas de atención primaria de apoyo). También existe un relativo subdesarrollo de la fuerza laboral de atención primaria con bajos niveles de ingresos en relación con los especialistas. Más positivamente, se ha juzgado que el sistema de atención primaria es relativamente efectivo y eficiente con respecto a la coordinación y la integralidad de la atención (Ktingos et al, 2015, Kringosetal, 2013).",
         "3"
        ],
        [
         "8",
         "De hecho, es probable que la designación de la universidad como universidad APEX aleje aún más a la institución del compromiso regional. Brindan acceso a un gran número de estudiantes y estudiantes graduados de la región, muchos de los cuales permanecen dentro de la región en busca de empleo. A través de la participación de los estudiantes en la región a través de pasantías, actividades de voluntariado y otras formas, las instituciones tienen un impacto en la región. Excepto por la información básica sobre el número de admisiones, matriculación y graduados, no se disponía de información sustantiva sobre la sucursal de UiTM en Penang, los dos politécnicos, los cuatro colegios comunitarios y las instituciones privadas en Penang y sobre las instituciones de educación superior en los otros tres estados. (Perlis, Kedah y Perak) en la Región Económica del Corredor Norte más grande. Por lo tanto, los hallazgos y observaciones se basan en una perspectiva limitada de las instituciones de educación superior en la región.",
         "4"
        ],
        [
         "9",
         "De hecho, aunque Chile y Uruguay tienen índices de pobreza similares, la pobreza infantil en Chile es 1,8 veces mayor que la de la población adulta, mientras que en Uruguay es 3,1 veces mayor. Esto produciría tasas de pobreza infantil artificialmente altas. Esta línea representa el costo de satisfacer las necesidades básicas de una persona. Medir la pobreza de esta manera supone que el costo per cápita de satisfacer las necesidades básicas de un individuo no se ve afectado por el número de personas que viven en un hogar o por las características demográficas del hogar.",
         "1"
        ]
       ],
       "shape": {
        "columns": 2,
        "rows": 10
       }
      },
      "text/html": [
       "<div>\n",
       "<style scoped>\n",
       "    .dataframe tbody tr th:only-of-type {\n",
       "        vertical-align: middle;\n",
       "    }\n",
       "\n",
       "    .dataframe tbody tr th {\n",
       "        vertical-align: top;\n",
       "    }\n",
       "\n",
       "    .dataframe thead th {\n",
       "        text-align: right;\n",
       "    }\n",
       "</style>\n",
       "<table border=\"1\" class=\"dataframe\">\n",
       "  <thead>\n",
       "    <tr style=\"text-align: right;\">\n",
       "      <th></th>\n",
       "      <th>textos</th>\n",
       "      <th>labels</th>\n",
       "    </tr>\n",
       "  </thead>\n",
       "  <tbody>\n",
       "    <tr>\n",
       "      <th>0</th>\n",
       "      <td>\"Aprendizaje\" y \"educación\" se consideran sinó...</td>\n",
       "      <td>4</td>\n",
       "    </tr>\n",
       "    <tr>\n",
       "      <th>1</th>\n",
       "      <td>Para los niños más pequeños (bebés y niños peq...</td>\n",
       "      <td>4</td>\n",
       "    </tr>\n",
       "    <tr>\n",
       "      <th>2</th>\n",
       "      <td>Además, la formación de especialistas en medic...</td>\n",
       "      <td>3</td>\n",
       "    </tr>\n",
       "    <tr>\n",
       "      <th>3</th>\n",
       "      <td>En los países de la OCDE se tiende a pasar de ...</td>\n",
       "      <td>4</td>\n",
       "    </tr>\n",
       "    <tr>\n",
       "      <th>4</th>\n",
       "      <td>Este grupo se centró en las personas que padec...</td>\n",
       "      <td>3</td>\n",
       "    </tr>\n",
       "    <tr>\n",
       "      <th>5</th>\n",
       "      <td>Los datos a nivel del sistema que no se deriva...</td>\n",
       "      <td>4</td>\n",
       "    </tr>\n",
       "    <tr>\n",
       "      <th>6</th>\n",
       "      <td>La principal ventaja de las evaluaciones exter...</td>\n",
       "      <td>4</td>\n",
       "    </tr>\n",
       "    <tr>\n",
       "      <th>7</th>\n",
       "      <td>Los pacientes pueden elegir a cualquier médico...</td>\n",
       "      <td>3</td>\n",
       "    </tr>\n",
       "    <tr>\n",
       "      <th>8</th>\n",
       "      <td>De hecho, es probable que la designación de la...</td>\n",
       "      <td>4</td>\n",
       "    </tr>\n",
       "    <tr>\n",
       "      <th>9</th>\n",
       "      <td>De hecho, aunque Chile y Uruguay tienen índice...</td>\n",
       "      <td>1</td>\n",
       "    </tr>\n",
       "  </tbody>\n",
       "</table>\n",
       "</div>"
      ],
      "text/plain": [
       "                                              textos  labels\n",
       "0  \"Aprendizaje\" y \"educación\" se consideran sinó...       4\n",
       "1  Para los niños más pequeños (bebés y niños peq...       4\n",
       "2  Además, la formación de especialistas en medic...       3\n",
       "3  En los países de la OCDE se tiende a pasar de ...       4\n",
       "4  Este grupo se centró en las personas que padec...       3\n",
       "5  Los datos a nivel del sistema que no se deriva...       4\n",
       "6  La principal ventaja de las evaluaciones exter...       4\n",
       "7  Los pacientes pueden elegir a cualquier médico...       3\n",
       "8  De hecho, es probable que la designación de la...       4\n",
       "9  De hecho, aunque Chile y Uruguay tienen índice...       1"
      ]
     },
     "execution_count": 2,
     "metadata": {},
     "output_type": "execute_result"
    }
   ],
   "source": [
    "\n",
    "DATA_PATH   = \"Datos_proyecto.xlsx\"          \n",
    "TEXT_COL    = \"textos\"                       \n",
    "LABEL_COL   = \"labels\"\n",
    "\n",
    "xls = pd.ExcelFile(DATA_PATH)\n",
    "print(\"Hojas:\", xls.sheet_names)\n",
    "df = pd.read_excel(DATA_PATH, sheet_name=xls.sheet_names[0])\n",
    "df = df[[TEXT_COL, LABEL_COL]].rename(columns={TEXT_COL:\"textos\", LABEL_COL:\"labels\"})\n",
    "df.head(10)\n"
   ]
  },
  {
   "cell_type": "markdown",
   "id": "20378ea2",
   "metadata": {},
   "source": [
    "## 3. Entendimiento de Datos\n",
    "Aca vamos a revisar cosas como:\n",
    "- Tamaños\n",
    "- Vacios o NA \n",
    "- Longitudes \n",
    "- Distribución de los Labels\n"
   ]
  },
  {
   "cell_type": "code",
   "execution_count": 3,
   "id": "e96b00b6",
   "metadata": {},
   "outputs": [
    {
     "name": "stdout",
     "output_type": "stream",
     "text": [
      "Dimensiones: (2424, 2)\n",
      "<class 'pandas.core.frame.DataFrame'>\n",
      "RangeIndex: 2424 entries, 0 to 2423\n",
      "Data columns (total 2 columns):\n",
      " #   Column  Non-Null Count  Dtype \n",
      "---  ------  --------------  ----- \n",
      " 0   textos  2424 non-null   object\n",
      " 1   labels  2424 non-null   int64 \n",
      "dtypes: int64(1), object(1)\n",
      "memory usage: 38.0+ KB\n"
     ]
    },
    {
     "data": {
      "text/plain": [
       "None"
      ]
     },
     "metadata": {},
     "output_type": "display_data"
    }
   ],
   "source": [
    "print(\"Dimensiones:\", df.shape)\n",
    "display(df.info())"
   ]
  },
  {
   "cell_type": "code",
   "execution_count": 4,
   "id": "fd45a1f4",
   "metadata": {},
   "outputs": [
    {
     "data": {
      "application/vnd.microsoft.datawrangler.viewer.v0+json": {
       "columns": [
        {
         "name": "index",
         "rawType": "object",
         "type": "string"
        },
        {
         "name": "count",
         "rawType": "float64",
         "type": "float"
        },
        {
         "name": "mean",
         "rawType": "float64",
         "type": "float"
        },
        {
         "name": "std",
         "rawType": "float64",
         "type": "float"
        },
        {
         "name": "min",
         "rawType": "float64",
         "type": "float"
        },
        {
         "name": "25%",
         "rawType": "float64",
         "type": "float"
        },
        {
         "name": "50%",
         "rawType": "float64",
         "type": "float"
        },
        {
         "name": "75%",
         "rawType": "float64",
         "type": "float"
        },
        {
         "name": "max",
         "rawType": "float64",
         "type": "float"
        }
       ],
       "ref": "8907a3f7-4f0a-4644-9973-7a26eabb30df",
       "rows": [
        [
         "len_words",
         "2424.0",
         "107.92409240924093",
         "35.575349069444634",
         "41.0",
         "81.0",
         "102.0",
         "129.0",
         "260.0"
        ],
        [
         "len_chars",
         "2424.0",
         "683.2231848184819",
         "223.56369484537302",
         "303.0",
         "513.0",
         "647.0",
         "809.25",
         "1492.0"
        ]
       ],
       "shape": {
        "columns": 8,
        "rows": 2
       }
      },
      "text/html": [
       "<div>\n",
       "<style scoped>\n",
       "    .dataframe tbody tr th:only-of-type {\n",
       "        vertical-align: middle;\n",
       "    }\n",
       "\n",
       "    .dataframe tbody tr th {\n",
       "        vertical-align: top;\n",
       "    }\n",
       "\n",
       "    .dataframe thead th {\n",
       "        text-align: right;\n",
       "    }\n",
       "</style>\n",
       "<table border=\"1\" class=\"dataframe\">\n",
       "  <thead>\n",
       "    <tr style=\"text-align: right;\">\n",
       "      <th></th>\n",
       "      <th>count</th>\n",
       "      <th>mean</th>\n",
       "      <th>std</th>\n",
       "      <th>min</th>\n",
       "      <th>25%</th>\n",
       "      <th>50%</th>\n",
       "      <th>75%</th>\n",
       "      <th>max</th>\n",
       "    </tr>\n",
       "  </thead>\n",
       "  <tbody>\n",
       "    <tr>\n",
       "      <th>len_words</th>\n",
       "      <td>2424.0</td>\n",
       "      <td>107.924092</td>\n",
       "      <td>35.575349</td>\n",
       "      <td>41.0</td>\n",
       "      <td>81.0</td>\n",
       "      <td>102.0</td>\n",
       "      <td>129.00</td>\n",
       "      <td>260.0</td>\n",
       "    </tr>\n",
       "    <tr>\n",
       "      <th>len_chars</th>\n",
       "      <td>2424.0</td>\n",
       "      <td>683.223185</td>\n",
       "      <td>223.563695</td>\n",
       "      <td>303.0</td>\n",
       "      <td>513.0</td>\n",
       "      <td>647.0</td>\n",
       "      <td>809.25</td>\n",
       "      <td>1492.0</td>\n",
       "    </tr>\n",
       "  </tbody>\n",
       "</table>\n",
       "</div>"
      ],
      "text/plain": [
       "            count        mean         std    min    25%    50%     75%     max\n",
       "len_words  2424.0  107.924092   35.575349   41.0   81.0  102.0  129.00   260.0\n",
       "len_chars  2424.0  683.223185  223.563695  303.0  513.0  647.0  809.25  1492.0"
      ]
     },
     "execution_count": 4,
     "metadata": {},
     "output_type": "execute_result"
    }
   ],
   "source": [
    "# Longitud de textos\n",
    "df[\"len_words\"] = df[\"textos\"].astype(str).str.split().str.len()\n",
    "df[\"len_chars\"] = df[\"textos\"].astype(str).str.len()\n",
    "df[[\"len_words\",\"len_chars\"]].describe().T"
   ]
  },
  {
   "cell_type": "code",
   "execution_count": 5,
   "id": "24724be6",
   "metadata": {},
   "outputs": [
    {
     "name": "stdout",
     "output_type": "stream",
     "text": [
      "NA por columna:\n",
      " textos       0\n",
      "labels       0\n",
      "len_words    0\n",
      "len_chars    0\n",
      "dtype: int64\n",
      "Duplicados de texto: 0 | Duplicados (texto + etiqueta): 0\n"
     ]
    }
   ],
   "source": [
    "# NA y duplicados\n",
    "print(\"NA por columna:\\n\", df.isna().sum())\n",
    "dup_text = df.duplicated(subset=[\"textos\"]).sum()\n",
    "dup_both = df.duplicated(subset=[\"textos\",\"labels\"]).sum()\n",
    "print(f\"Duplicados de texto: {dup_text} | Duplicados (texto + etiqueta): {dup_both}\")"
   ]
  },
  {
   "cell_type": "code",
   "execution_count": 6,
   "id": "00967c27",
   "metadata": {},
   "outputs": [
    {
     "data": {
      "application/vnd.microsoft.datawrangler.viewer.v0+json": {
       "columns": [
        {
         "name": "labels",
         "rawType": "int64",
         "type": "integer"
        },
        {
         "name": "count",
         "rawType": "int64",
         "type": "integer"
        }
       ],
       "ref": "c348cc6a-d325-4487-8394-c3b6706049da",
       "rows": [
        [
         "4",
         "1025"
        ],
        [
         "3",
         "894"
        ],
        [
         "1",
         "505"
        ]
       ],
       "shape": {
        "columns": 1,
        "rows": 3
       }
      },
      "text/plain": [
       "labels\n",
       "4    1025\n",
       "3     894\n",
       "1     505\n",
       "Name: count, dtype: int64"
      ]
     },
     "execution_count": 6,
     "metadata": {},
     "output_type": "execute_result"
    },
    {
     "data": {
      "image/png": "[encoded data removed]",
      "text/plain": [
       "<Figure size 600x400 with 1 Axes>"
      ]
     },
     "metadata": {},
     "output_type": "display_data"
    }
   ],
   "source": [
    "# Distribución de los labels\n",
    "counts = df[\"labels\"].value_counts()\n",
    "counts.plot.bar(title=\"Distribución de etiquetas\")\n",
    "counts\n",
    "\n",
    "# Los resultados muestran que hay un desbalance en las clases, \n",
    "# pero creo que el lunes vamos a revisar eso \n",
    "# y como hacer aumentación de datos con ia generativa (Aunque revisé y es para la etapa 2 so don't worry)"
   ]
  },
  {
   "cell_type": "code",
   "execution_count": 7,
   "id": "29421015",
   "metadata": {},
   "outputs": [
    {
     "name": "stdout",
     "output_type": "stream",
     "text": [
      "Tras limpieza básica: (2424, 4)\n"
     ]
    }
   ],
   "source": [
    "df = df.dropna(subset=[\"textos\"]).copy()\n",
    "df = df[df[\"textos\"].astype(str).str.strip() != \"\"]\n",
    "MIN_WORDS = 3\n",
    "df = df[df[\"len_words\"] > MIN_WORDS].copy()\n",
    "\n",
    "print(\"Tras limpieza básica:\", df.shape)\n",
    "\n",
    "# No habian vacios ni duplicados"
   ]
  },
  {
   "cell_type": "code",
   "execution_count": 8,
   "id": "e13c6711",
   "metadata": {},
   "outputs": [],
   "source": [
    "#Split de datos de entrenamiento y prueba\n",
    "X = df[\"textos\"].astype(str)\n",
    "y = df[\"labels\"]\n",
    "\n",
    "X_train, X_test, y_train, y_test = train_test_split(X, y, test_size=0.20, random_state=RANDOM_STATE, stratify=y)\n"
   ]
  },
  {
   "cell_type": "code",
   "execution_count": 9,
   "id": "e00e7f42",
   "metadata": {},
   "outputs": [
    {
     "name": "stderr",
     "output_type": "stream",
     "text": [
      "[nltk_data] Downloading package stopwords to\n",
      "[nltk_data]     C:\\Users\\yarso\\AppData\\Roaming\\nltk_data...\n",
      "[nltk_data]   Package stopwords is already up-to-date!\n"
     ]
    }
   ],
   "source": [
    "# Stopwords en español, de lo que vi, esto nos va a ayudar ya que hay muchas palabras comunes en los textos\n",
    "# que no aportan mucho valor para la clasificación y pueden introducir ruido en el modelo y asi nos \n",
    "# aseguramos que el modelo se enfoque en las palabras más relevantes para la clasificación (e.g. salud, educación, pobreza, etc)\n",
    "from nltk.corpus import stopwords\n",
    "import nltk\n",
    "nltk.download('stopwords')\n",
    "\n",
    "spanish_stopwords = stopwords.words(\"spanish\")\n"
   ]
  },
  {
   "cell_type": "code",
   "execution_count": 10,
   "id": "8fd0ec0f",
   "metadata": {},
   "outputs": [
    {
     "name": "stderr",
     "output_type": "stream",
     "text": [
      "c:\\Python313\\Lib\\site-packages\\sklearn\\feature_extraction\\text.py:402: UserWarning: Your stop_words may be inconsistent with your preprocessing. Tokenizing the stop words generated tokens ['eramos', 'estabamos', 'estais', 'estan', 'estara', 'estaran', 'estaras', 'estare', 'estareis', 'estaria', 'estariais', 'estariamos', 'estarian', 'estarias', 'esteis', 'esten', 'estes', 'estuvieramos', 'estuviesemos', 'fueramos', 'fuesemos', 'habeis', 'habia', 'habiais', 'habiamos', 'habian', 'habias', 'habra', 'habran', 'habras', 'habre', 'habreis', 'habria', 'habriais', 'habriamos', 'habrian', 'habrias', 'hayais', 'hubieramos', 'hubiesemos', 'mas', 'mia', 'mias', 'mio', 'mios', 'seais', 'sera', 'seran', 'seras', 'sere', 'sereis', 'seria', 'seriais', 'seriamos', 'serian', 'serias', 'si', 'tambien', 'tendra', 'tendran', 'tendras', 'tendre', 'tendreis', 'tendria', 'tendriais', 'tendriamos', 'tendrian', 'tendrias', 'teneis', 'tengais', 'tenia', 'teniais', 'teniamos', 'tenian', 'tenias', 'tuvieramos', 'tuviesemos'] not in stop_words.\n",
      "  warnings.warn(\n"
     ]
    },
    {
     "data": {
      "text/plain": [
       "((1939, 15856), (485, 15856))"
      ]
     },
     "execution_count": 10,
     "metadata": {},
     "output_type": "execute_result"
    }
   ],
   "source": [
    "# Vectorización TF-IDF, eso es Term Frequency–Inverse Document Frequency (lo vimos en clase)\n",
    "# Entonces las palabras que aparecen en muchos documentos (alta frecuencia) tienen menos peso\n",
    "# y las que aparecen en pocos documentos (baja frecuencia) tienen más peso\n",
    "#Mejores params: {'knn__metric': 'cosine', 'knn__n_neighbors': 11, 'knn__weights': 'distance', 'tfidf__max_df': 0.85, 'tfidf__min_df': 2, 'tfidf__ngram_range': (1, 2)}\n",
    "\n",
    "tfidf = TfidfVectorizer(\n",
    "    lowercase=True,\n",
    "    strip_accents=\"unicode\",\n",
    "    token_pattern=r\"(?u)\\b\\w\\w+\\b\",   \n",
    "    ngram_range=(1,2),\n",
    "    min_df=2,\n",
    "    max_df=0.85,\n",
    "    stop_words=spanish_stopwords\n",
    ")\n",
    "# Ajustar \n",
    "X_train_tfidf = tfidf.fit_transform(X_train)\n",
    "# Transformar\n",
    "X_test_tfidf  = tfidf.transform(X_test)\n",
    "\n",
    "X_train_tfidf.shape, X_test_tfidf.shape"
   ]
  },
  {
   "cell_type": "markdown",
   "id": "c3433e7b",
   "metadata": {},
   "source": [
    "## Modelos\n",
    "En esta primera iteración vamos a montar arbol de decisión y KNN"
   ]
  },
  {
   "cell_type": "code",
   "execution_count": 11,
   "id": "5df71dff",
   "metadata": {},
   "outputs": [],
   "source": [
    "# Vamos a probar varios modelos de clasificación con hiperparámetros by feeling a ver como nos va  \n",
    "models = { \n",
    "    \"KNN\": KNeighborsClassifier(n_neighbors=11, metric=\"cosine\", weights=\"distance\"),\n",
    "    \"Decision Tree\": DecisionTreeClassifier(random_state=RANDOM_STATE, max_depth=15, min_samples_leaf=2),\n",
    "    \"Naive Bayes\": MultinomialNB(alpha=1.0)\n",
    "}"
   ]
  },
  {
   "cell_type": "code",
   "execution_count": 12,
   "id": "b42a9182",
   "metadata": {},
   "outputs": [
    {
     "name": "stdout",
     "output_type": "stream",
     "text": [
      "Modelo: KNN\n",
      "              precision    recall  f1-score   support\n",
      "\n",
      "           1       0.94      0.93      0.94       101\n",
      "           3       0.96      0.96      0.96       179\n",
      "           4       0.97      0.97      0.97       205\n",
      "\n",
      "    accuracy                           0.96       485\n",
      "   macro avg       0.95      0.95      0.95       485\n",
      "weighted avg       0.96      0.96      0.96       485\n",
      "\n",
      "Modelo: Decision Tree\n",
      "              precision    recall  f1-score   support\n",
      "\n",
      "           1       0.90      0.78      0.84       101\n",
      "           3       0.84      0.92      0.87       179\n",
      "           4       0.94      0.92      0.93       205\n",
      "\n",
      "    accuracy                           0.89       485\n",
      "   macro avg       0.89      0.87      0.88       485\n",
      "weighted avg       0.89      0.89      0.89       485\n",
      "\n",
      "Modelo: Naive Bayes\n",
      "              precision    recall  f1-score   support\n",
      "\n",
      "           1       0.99      0.75      0.85       101\n",
      "           3       0.93      0.94      0.94       179\n",
      "           4       0.90      1.00      0.95       205\n",
      "\n",
      "    accuracy                           0.93       485\n",
      "   macro avg       0.94      0.90      0.91       485\n",
      "weighted avg       0.93      0.93      0.92       485\n",
      "\n"
     ]
    }
   ],
   "source": [
    "# Evaluar modelos \n",
    "for name, model in models.items():\n",
    "    print(f\"Modelo: {name}\")\n",
    "    model.fit(X_train_tfidf, y_train)\n",
    "    y_pred = model.predict(X_test_tfidf)\n",
    "    print(classification_report(y_test, y_pred))"
   ]
  },
  {
   "cell_type": "markdown",
   "id": "0e23374b",
   "metadata": {},
   "source": [
    "## Ajuste de Hiperparametros\n",
    "Como ya tenemos los modelos montados y al evaluarlos vimos que KNN fue el mejor modelo por ahora, vamos a usar GridSearchCV para encontrar los mejores parametros para ese modelo."
   ]
  },
  {
   "cell_type": "code",
   "execution_count": 13,
   "id": "3d57bca9",
   "metadata": {},
   "outputs": [
    {
     "name": "stdout",
     "output_type": "stream",
     "text": [
      "Fitting 5 folds for each of 648 candidates, totalling 3240 fits\n"
     ]
    },
    {
     "name": "stderr",
     "output_type": "stream",
     "text": [
      "c:\\Python313\\Lib\\site-packages\\sklearn\\feature_extraction\\text.py:402: UserWarning: Your stop_words may be inconsistent with your preprocessing. Tokenizing the stop words generated tokens ['eramos', 'estabamos', 'estais', 'estan', 'estara', 'estaran', 'estaras', 'estare', 'estareis', 'estaria', 'estariais', 'estariamos', 'estarian', 'estarias', 'esteis', 'esten', 'estes', 'estuvieramos', 'estuviesemos', 'fueramos', 'fuesemos', 'habeis', 'habia', 'habiais', 'habiamos', 'habian', 'habias', 'habra', 'habran', 'habras', 'habre', 'habreis', 'habria', 'habriais', 'habriamos', 'habrian', 'habrias', 'hayais', 'hubieramos', 'hubiesemos', 'mas', 'mia', 'mias', 'mio', 'mios', 'seais', 'sera', 'seran', 'seras', 'sere', 'sereis', 'seria', 'seriais', 'seriamos', 'serian', 'serias', 'si', 'tambien', 'tendra', 'tendran', 'tendras', 'tendre', 'tendreis', 'tendria', 'tendriais', 'tendriamos', 'tendrian', 'tendrias', 'teneis', 'tengais', 'tenia', 'teniais', 'teniamos', 'tenian', 'tenias', 'tuvieramos', 'tuviesemos'] not in stop_words.\n",
      "  warnings.warn(\n"
     ]
    },
    {
     "name": "stdout",
     "output_type": "stream",
     "text": [
      "Mejores params: {'knn__metric': 'cosine', 'knn__n_neighbors': 13, 'knn__weights': 'distance', 'tfidf__max_df': 0.85, 'tfidf__min_df': 2, 'tfidf__ngram_range': (1, 2)}\n",
      "Mejor F1 macro: 0.96\n",
      "\n",
      " KNN (mejor grid) en test \n",
      "\n",
      "              precision    recall  f1-score   support\n",
      "\n",
      "           1      0.941     0.950     0.946       101\n",
      "           3      0.950     0.950     0.950       179\n",
      "           4      0.975     0.971     0.973       205\n",
      "\n",
      "    accuracy                          0.959       485\n",
      "   macro avg      0.955     0.957     0.956       485\n",
      "weighted avg      0.959     0.959     0.959       485\n",
      "\n"
     ]
    },
    {
     "data": {
      "image/png": "[encoded data removed]",
      "text/plain": [
       "<Figure size 600x400 with 2 Axes>"
      ]
     },
     "metadata": {},
     "output_type": "display_data"
    }
   ],
   "source": [
    "# Creamos un pipeline para encapsular el proceso de vectorización y el modelo\n",
    "pipe = Pipeline([\n",
    "    (\"tfidf\", tfidf),                 # usa el mismo vectorizador configurado arriba\n",
    "    (\"knn\",  KNeighborsClassifier())  # se ajusta en el grid\n",
    "])\n",
    "\n",
    "# Definimos el grid de hiperparámetros para KNN\n",
    "param_grid = {\n",
    "    \"knn__n_neighbors\": [3,5,7,9,11,13],\n",
    "    \"knn__weights\": [\"uniform\",\"distance\"],\n",
    "    \"knn__metric\": [\"cosine\",\"euclidean\"],\n",
    "    \"tfidf__min_df\": [2,3,5],\n",
    "    \"tfidf__max_df\": [0.85,0.9,0.95],\n",
    "    \"tfidf__ngram_range\": [(1,1),(1,2),(2,2)]\n",
    "}\n",
    "\n",
    "# Configuramos el GridSearchCV\n",
    "# Usamos StratifiedKFold para mantener la proporción de clases en cada fold\n",
    "cv = StratifiedKFold(n_splits=5, shuffle=True, random_state=RANDOM_STATE)\n",
    "gs = GridSearchCV(pipe, param_grid, scoring=\"f1_macro\", cv=cv, n_jobs=-1, verbose=1)\n",
    "gs.fit(X_train, y_train)\n",
    "\n",
    "# Obtenemos el mejor pipeline\n",
    "mejor_pipe = gs.best_estimator_\n",
    "print(\"Mejores params:\", gs.best_params_)\n",
    "print(\"Mejor F1 macro:\", round(gs.best_score_, 2))\n",
    "\n",
    "# Evaluación en Test, esto no visto por el grid\n",
    "y_pred = mejor_pipe.predict(X_test)\n",
    "print(\"\\n KNN (mejor grid) en test \\n\")\n",
    "print(classification_report(y_test, y_pred, digits=3))\n",
    "\n",
    "# Matriz de confusión\n",
    "cm = confusion_matrix(y_test, y_pred, labels=[1,3,4])\n",
    "ConfusionMatrixDisplay(cm).plot(cmap=\"Blues\")\n",
    "plt.title(\"Matriz de confusion - KNN (mejor grid)\")\n",
    "plt.show()\n"
   ]
  },
  {
   "cell_type": "code",
   "execution_count": 14,
   "id": "aaf3b823",
   "metadata": {},
   "outputs": [
    {
     "name": "stdout",
     "output_type": "stream",
     "text": [
      "ODS1 (mean TF-IDF): ['pobreza', 'pobres', 'ingresos', 'mas', 'paises', 'ninos', 'hogares', 'infantil', 'social', 'pobreza infantil', 'crecimiento', 'personas', 'privacion', 'hogar', 'ingreso']\n",
      "ODS3 (mean TF-IDF): ['salud', 'atencion', 'servicios', 'mas', 'pacientes', 'mental', 'medicos', 'salud mental', 'atencion primaria', 'paises', 'primaria', 'enfermedades', 'personas', 'tambien', 'ocde']\n",
      "ODS4 (mean TF-IDF): ['educacion', 'estudiantes', 'escuelas', 'aprendizaje', 'docentes', 'mas', 'alumnos', 'escuela', 'evaluacion', 'ocde', 'escolar', 'ensenanza', 'habilidades', 'profesores', 'formacion']\n",
      "ODS1 (chi2): ['pobreza', 'pobres', 'pobreza infantil', 'ingresos', 'privacion', 'hogares', 'extrema', 'pobreza extrema', 'tasa pobreza', 'umbral', 'infantil', 'transferencias', 'linea pobreza', 'proteccion social', 'hogar']\n",
      "ODS3 (chi2): ['salud', 'atencion', 'pacientes', 'mental', 'pobreza', 'salud mental', 'atencion primaria', 'medicos', 'enfermedades', 'educacion', 'servicios', 'estudiantes', 'tratamiento', 'escuelas', 'mortalidad']\n",
      "ODS4 (chi2): ['estudiantes', 'educacion', 'escuelas', 'pobreza', 'salud', 'aprendizaje', 'docentes', 'alumnos', 'escuela', 'atencion', 'ensenanza', 'profesores', 'escolar', 'maestros', 'habilidades']\n"
     ]
    }
   ],
   "source": [
    "tfidf_best = mejor_pipe.named_steps[\"tfidf\"]\n",
    "Xtr = tfidf_best.transform(X_train)\n",
    "fn = np.array(tfidf_best.get_feature_names_out())\n",
    "\n",
    "def top_terms_mean_tfidf(label, topn=15):\n",
    "    rows = (y_train == label).values\n",
    "    mean = Xtr[rows].mean(axis=0).A1\n",
    "    idx = mean.argsort()[::-1][:topn]\n",
    "    return fn[idx].tolist()\n",
    "\n",
    "print(\"ODS1 (mean TF-IDF):\", top_terms_mean_tfidf(1))\n",
    "print(\"ODS3 (mean TF-IDF):\", top_terms_mean_tfidf(3))\n",
    "print(\"ODS4 (mean TF-IDF):\", top_terms_mean_tfidf(4))\n",
    "\n",
    "# b) Chi-cuadrado (one-vs-rest)\n",
    "def top_terms_chi2(label, topn=15):\n",
    "    y_bin = (y_train == label).astype(int)\n",
    "    scores, _ = chi2(Xtr, y_bin)\n",
    "    idx = np.argsort(scores)[-topn:][::-1]\n",
    "    return fn[idx].tolist()\n",
    "\n",
    "print(\"ODS1 (chi2):\", top_terms_chi2(1))\n",
    "print(\"ODS3 (chi2):\", top_terms_chi2(3))\n",
    "print(\"ODS4 (chi2):\", top_terms_chi2(4))\n"
   ]
  }
 ],
 "metadata": {
  "kernelspec": {
   "display_name": "Python 3",
   "language": "python",
   "name": "python3"
  },
  "language_info": {
   "codemirror_mode": {
    "name": "ipython",
    "version": 3
   },
   "file_extension": ".py",
   "mimetype": "text/x-python",
   "name": "python",
   "nbconvert_exporter": "python",
   "pygments_lexer": "ipython3",
   "version": "3.13.4"
  }
 },
 "nbformat": 4,
 "nbformat_minor": 5
}
