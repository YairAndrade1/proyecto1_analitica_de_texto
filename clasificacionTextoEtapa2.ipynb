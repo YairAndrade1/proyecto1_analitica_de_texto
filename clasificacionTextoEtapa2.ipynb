{
 "cells": [
  {
   "cell_type": "markdown",
   "id": "5c360f9f",
   "metadata": {},
   "source": [
    "# ODS – Etapa 2 (Clasificación de texto)\n",
    "El objetivo de este trabajo es clasificar opiniones ciudadanas en relación con los Objetivos de Desarrollo Sostenible (ODS) 1, 3 y 4 mediante modelos de aprendizaje supervisado.  \n",
    "- **ODS 1:** Fin de la pobreza  \n",
    "- **ODS 3:** Salud y bienestar  \n",
    "- **ODS 4:** Educación de calidad  \n",
    "\n",
    "\n",
    "Estructura:\n",
    "1) Entendimiento de los datos\n",
    "2) Procesamiento de datos\n",
    "3) Modelos (vistos y no vistos en clase)\n",
    "4) Ajuste de hiperparámetros\n",
    "5) Modelo Final\n",
    "6) Interpretación de resultados\n",
    "7) Exportación de predicciones "
   ]
  },
  {
   "cell_type": "code",
   "execution_count": null,
   "id": "6423a7f8",
   "metadata": {
    "vscode": {
     "languageId": "plaintext"
    }
   },
   "outputs": [],
   "source": [
    "import pandas as pd\n",
    "import numpy as np\n",
    "import matplotlib.pyplot as plt\n",
    "import re\n",
    "\n",
    "from sklearn.model_selection import train_test_split, StratifiedKFold, GridSearchCV, cross_val_score\n",
    "from sklearn.feature_extraction.text import TfidfVectorizer\n",
    "from sklearn.pipeline import Pipeline\n",
    "from sklearn.metrics import classification_report, confusion_matrix, ConfusionMatrixDisplay\n",
    "from sklearn.feature_selection import chi2\n",
    "from joblib import dump\n",
    "\n",
    "plt.rcParams[\"figure.figsize\"] = (6, 4)\n",
    "plt.rcParams[\"axes.grid\"] = True\n",
    "\n",
    "RANDOM_STATE = 42\n",
    "np.random.seed(RANDOM_STATE) # Buena practica para reproducibilidad\n"
   ]
  }
 ],
 "metadata": {
  "language_info": {
   "name": "python"
  }
 },
 "nbformat": 4,
 "nbformat_minor": 5
}
